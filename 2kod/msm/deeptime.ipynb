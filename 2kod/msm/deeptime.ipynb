{
 "cells": [
  {
   "cell_type": "markdown",
   "id": "1c2c3ffc",
   "metadata": {},
   "source": [
    "# Deeptime Notebook"
   ]
  },
  {
   "cell_type": "markdown",
   "id": "c4cbd79d",
   "metadata": {},
   "source": [
    "A combination of the PyEMMA and Deeptime tutorials.\n",
    "\n",
    "Last updated: Feb 24, 2023\n",
    "\n",
    "\n",
    "By Jeremy Leung"
   ]
  },
  {
   "cell_type": "code",
   "execution_count": 1,
   "id": "d8d2b091",
   "metadata": {},
   "outputs": [],
   "source": [
    "# Imports\n",
    "%matplotlib inline\n",
    "import matplotlib.pyplot as plt\n",
    "import numpy as np\n",
    "import deeptime\n",
    "\n",
    "from tqdm.auto import tqdm\n",
    "\n",
    "# Require deeptime, ipywidgets, tqdm. numpy and matplotlib"
   ]
  },
  {
   "cell_type": "code",
   "execution_count": 2,
   "id": "a98b8246",
   "metadata": {},
   "outputs": [],
   "source": [
    "# Common variables across all checkpoints\n",
    "lagtimes = [1,2,5,10,20,25]\n",
    "n_clusters = [5, 10, 20, 50, 100, 200]"
   ]
  },
  {
   "cell_type": "code",
   "execution_count": 9,
   "id": "2767011a",
   "metadata": {},
   "outputs": [
    {
     "name": "stdout",
     "output_type": "stream",
     "text": [
      "['01', '02', '03', '04', '05', '06', '07', '08', '09', '10']\n"
     ]
    },
    {
     "data": {
      "application/vnd.jupyter.widget-view+json": {
       "model_id": "15d2170f92e74d98865a715c35476b71",
       "version_major": 2,
       "version_minor": 0
      },
      "text/plain": [
       "  0%|          | 0/10 [00:00<?, ?it/s]"
      ]
     },
     "metadata": {},
     "output_type": "display_data"
    }
   ],
   "source": [
    "# Load in your data. Example here are 10 .npy arrays of shape (n_frames, 4). \n",
    "# Only loading in phi/psi (other two are the omega angles)\n",
    "folders = [f'{num+1:02d}' for num in range(10)]\n",
    "print(folders)\n",
    "dihedral = []\n",
    "for folder in tqdm(folders):\n",
    "    dihedral.append(np.load(f'{folder}/dihedral.npy')[::10,:2])\n",
    "#data = []\n",
    "#for folder in tqdm(folders):\n",
    "#    data.append(np.load(f'{folder}/coords.npy')[20000000:30000000:100000])\n",
    "# Note if you have multiple independent trials, this concatenates them into one large array.\n",
    "dihedral_concat = np.concatenate(dihedral)"
   ]
  },
  {
   "cell_type": "code",
   "execution_count": 3,
   "id": "97344154",
   "metadata": {},
   "outputs": [
    {
     "data": {
      "application/vnd.jupyter.widget-view+json": {
       "model_id": "7e050cca35a74b718ca0fe66930177bc",
       "version_major": 2,
       "version_minor": 0
      },
      "text/plain": [
       "  0%|          | 0/5 [00:00<?, ?it/s]"
      ]
     },
     "metadata": {},
     "output_type": "display_data"
    },
    {
     "data": {
      "application/vnd.jupyter.widget-view+json": {
       "model_id": "3bfe875f20054b65b5486a4e6c09d92f",
       "version_major": 2,
       "version_minor": 0
      },
      "text/plain": [
       "  0%|          | 0/500 [00:00<?, ?it/s]"
      ]
     },
     "metadata": {},
     "output_type": "display_data"
    },
    {
     "data": {
      "application/vnd.jupyter.widget-view+json": {
       "model_id": "e9618d5c00f24fafb0238bdad2b5c77d",
       "version_major": 2,
       "version_minor": 0
      },
      "text/plain": [
       "  0%|          | 0/10 [00:00<?, ?it/s]"
      ]
     },
     "metadata": {},
     "output_type": "display_data"
    },
    {
     "data": {
      "application/vnd.jupyter.widget-view+json": {
       "model_id": "dfccae7d52eb4d34a4418bcbc13f45ba",
       "version_major": 2,
       "version_minor": 0
      },
      "text/plain": [
       "  0%|          | 0/500 [00:00<?, ?it/s]"
      ]
     },
     "metadata": {},
     "output_type": "display_data"
    },
    {
     "data": {
      "application/vnd.jupyter.widget-view+json": {
       "model_id": "6ba9b8c9df524cbe9958e0e4ac55b761",
       "version_major": 2,
       "version_minor": 0
      },
      "text/plain": [
       "  0%|          | 0/20 [00:00<?, ?it/s]"
      ]
     },
     "metadata": {},
     "output_type": "display_data"
    },
    {
     "data": {
      "application/vnd.jupyter.widget-view+json": {
       "model_id": "846fb6356d824897b4bb7762e5d8cbdc",
       "version_major": 2,
       "version_minor": 0
      },
      "text/plain": [
       "  0%|          | 0/500 [00:00<?, ?it/s]"
      ]
     },
     "metadata": {},
     "output_type": "display_data"
    },
    {
     "data": {
      "application/vnd.jupyter.widget-view+json": {
       "model_id": "a6bbff30ea864bbb97015ddbcbec6fcf",
       "version_major": 2,
       "version_minor": 0
      },
      "text/plain": [
       "  0%|          | 0/50 [00:00<?, ?it/s]"
      ]
     },
     "metadata": {},
     "output_type": "display_data"
    },
    {
     "data": {
      "application/vnd.jupyter.widget-view+json": {
       "model_id": "0a37c328802740dfa8b53dbe23d81f0a",
       "version_major": 2,
       "version_minor": 0
      },
      "text/plain": [
       "  0%|          | 0/500 [00:00<?, ?it/s]"
      ]
     },
     "metadata": {},
     "output_type": "display_data"
    },
    {
     "data": {
      "application/vnd.jupyter.widget-view+json": {
       "model_id": "8b7b682e21114eaa8ecbdbc46cb59e21",
       "version_major": 2,
       "version_minor": 0
      },
      "text/plain": [
       "  0%|          | 0/100 [00:00<?, ?it/s]"
      ]
     },
     "metadata": {},
     "output_type": "display_data"
    },
    {
     "data": {
      "application/vnd.jupyter.widget-view+json": {
       "model_id": "1b012f5476cf4d39a429882bc6e012da",
       "version_major": 2,
       "version_minor": 0
      },
      "text/plain": [
       "  0%|          | 0/500 [00:00<?, ?it/s]"
      ]
     },
     "metadata": {},
     "output_type": "display_data"
    },
    {
     "data": {
      "application/vnd.jupyter.widget-view+json": {
       "model_id": "dad4d6f8674642aba962650d722cae61",
       "version_major": 2,
       "version_minor": 0
      },
      "text/plain": [
       "  0%|          | 0/200 [00:00<?, ?it/s]"
      ]
     },
     "metadata": {},
     "output_type": "display_data"
    },
    {
     "data": {
      "application/vnd.jupyter.widget-view+json": {
       "model_id": "799979b70c6a47d08c0497bfcb247294",
       "version_major": 2,
       "version_minor": 0
      },
      "text/plain": [
       "  0%|          | 0/500 [00:00<?, ?it/s]"
      ]
     },
     "metadata": {},
     "output_type": "display_data"
    }
   ],
   "source": [
    "# Run K-means on multiple cluster numbers\n",
    "clusters = []\n",
    "dtrajs = []\n",
    "for n in n_clusters:\n",
    "    cluster = deeptime.clustering.KMeans(n_clusters=n, max_iter=500, progress=tqdm)\n",
    "    dtraj = cluster.fit_transform(dihedral_concat)\n",
    "    dtrajs.append(dtraj)\n",
    "    clusters.append(cluster.fetch_model())"
   ]
  },
  {
   "cell_type": "markdown",
   "id": "7af9c4b4",
   "metadata": {},
   "source": [
    "## Checkpoint 1/4"
   ]
  },
  {
   "cell_type": "code",
   "execution_count": 7,
   "id": "25929db4",
   "metadata": {},
   "outputs": [],
   "source": [
    "# Read previous data\n",
    "import pickle\n",
    "with open('clusters.pickle','rb') as file:\n",
    "    clusters = pickle.load(file)\n",
    "with open('dtrajs.pickle','rb') as file:\n",
    "    dtrajs = pickle.load(file)"
   ]
  },
  {
   "cell_type": "code",
   "execution_count": 113,
   "id": "1abde858",
   "metadata": {},
   "outputs": [],
   "source": [
    "# Write previous data\n",
    "import pickle\n",
    "with open('clusters.pickle','wb') as file:\n",
    "    pickle.dump(clusters, file)\n",
    "with open('dtrajs.pickle','wb') as file:\n",
    "    pickle.dump(dtrajs, file)"
   ]
  },
  {
   "cell_type": "code",
   "execution_count": 42,
   "id": "4c44cfc2",
   "metadata": {},
   "outputs": [],
   "source": [
    "# Make the count matrix for various lagtimes.\n",
    "lagtimes = [1,2,5,10,20,25]\n",
    "countm = []\n",
    "for dtraj in dtrajs:\n",
    "    c_small = []\n",
    "    for lag in lagtimes:\n",
    "        estimator = deeptime.markov.TransitionCountEstimator(lag, 'sliding')\n",
    "        c_small.append(estimator.fit(dtraj).fetch_model())\n",
    "    countm.append(c_small)"
   ]
  },
  {
   "cell_type": "markdown",
   "id": "ad813684",
   "metadata": {},
   "source": [
    "## Checkpoint 2/4"
   ]
  },
  {
   "cell_type": "code",
   "execution_count": 6,
   "id": "4c702e9e",
   "metadata": {},
   "outputs": [],
   "source": [
    "# Read previous data\n",
    "import pickle\n",
    "with open('countm.pickle','rb') as file:\n",
    "    countm = pickle.load(file)"
   ]
  },
  {
   "cell_type": "code",
   "execution_count": 114,
   "id": "93565c92",
   "metadata": {},
   "outputs": [],
   "source": [
    "# Write previous data\n",
    "import pickle\n",
    "with open('countm.pickle','wb') as file:\n",
    "    pickle.dump(countm, file)"
   ]
  },
  {
   "cell_type": "markdown",
   "id": "e70de2e7",
   "metadata": {},
   "source": []
  },
  {
   "cell_type": "code",
   "execution_count": 18,
   "id": "7e44220e",
   "metadata": {},
   "outputs": [],
   "source": [
    "# Make MSM for each cluster/lagtime\n",
    "estimator = deeptime.markov.msm.MaximumLikelihoodMSM(reversible=True, stationary_distribution_constraint=None)\n",
    "msms = []\n",
    "for matrix in countm:\n",
    "    small = []\n",
    "    for m, lag in zip(matrix, lagtimes):\n",
    "        small.append(estimator.fit(m, lagtime=lag).fetch_model())\n",
    "    msms.append(small)"
   ]
  },
  {
   "cell_type": "markdown",
   "id": "c84072f3",
   "metadata": {},
   "source": [
    "## Checkpoint 3/4"
   ]
  },
  {
   "cell_type": "code",
   "execution_count": 4,
   "id": "7f56f84f",
   "metadata": {},
   "outputs": [],
   "source": [
    "# Read previous data\n",
    "import pickle\n",
    "with open('msms.pickle','rb') as file:\n",
    "    msms = pickle.load(file)"
   ]
  },
  {
   "cell_type": "code",
   "execution_count": 19,
   "id": "6b54d1b8",
   "metadata": {},
   "outputs": [],
   "source": [
    "# Write previous data\n",
    "import pickle\n",
    "with open('msms.pickle','wb') as file:\n",
    "    pickle.dump(msms, file)"
   ]
  },
  {
   "cell_type": "code",
   "execution_count": null,
   "id": "55fe83ae",
   "metadata": {},
   "outputs": [],
   "source": []
  },
  {
   "cell_type": "code",
   "execution_count": 11,
   "id": "1f273641",
   "metadata": {},
   "outputs": [
    {
     "data": {
      "image/png": "[encoded data removed]",
      "text/plain": [
       "<Figure size 1296x446.4 with 12 Axes>"
      ]
     },
     "metadata": {
      "needs_background": "light"
     },
     "output_type": "display_data"
    }
   ],
   "source": [
    "# Try and plot the many different cluster centers\n",
    "\n",
    "# Setting up the figure/Axes objects...\n",
    "fig = plt.figure(constrained_layout=True, figsize=(18,6.2))\n",
    "gs = fig.add_gridspec(2, len(n_clusters))\n",
    "axes = []\n",
    "for idx in range(2):\n",
    "    axes.append([])\n",
    "    for jdx in range(len(n_clusters)):\n",
    "        axes[idx].append(fig.add_subplot(gs[idx, jdx]))\n",
    "axes = np.asarray(axes)\n",
    "# This is a simplified way to setup but might create overlap\n",
    "#fig, axes = plt.subplots(2, len(n_clusters), figsize=(18, 6.2))\n",
    "\n",
    "# Plotting things...\n",
    "for i, (n, cluster, dtraj, msm) in enumerate(zip(n_clusters, clusters, dtrajs, msms)):\n",
    "    # Top row...\n",
    "    deeptime.plots.plot_density(*dihedral_concat.T[::-1], ax=axes[0, i]) # Note .T reverses Phi/Psi\n",
    "    axes[0, i].scatter(*cluster.cluster_centers.T, s=15, c='C1')\n",
    "    axes[0, i].set_xlabel('$\\Phi$')\n",
    "    axes[0, i].set_ylabel('$\\Psi$')\n",
    "    axes[0, i].set_title('k = {} centers'.format(n))\n",
    "    axes[0, i].set_xticks([j for j in range(-180,181,60)])\n",
    "    axes[0, i].set_xticks([j for j in range(-180,181,60)])\n",
    "    \n",
    "    # Bottom row...\n",
    "    deeptime.plots.plot_implied_timescales(\n",
    "        deeptime.util.validation.implied_timescales(msm, n_its=9),\n",
    "        ax=axes[1, i])\n",
    "    axes[1, i].set_xlabel('lag time (ps)')\n",
    "    axes[1, i].set_ylabel('timescale (ps)')\n",
    "    axes[1, i].set_title('implied timescales')\n",
    "    #axes[1, i].set_ylim(1, 2000)\n",
    "\n",
    "#fig.tight_layout()\n",
    "fig.suptitle('Different Clusters and Lag Times at a Glance')\n",
    "fig.savefig('its.pdf', dpi=300)"
   ]
  },
  {
   "cell_type": "code",
   "execution_count": 27,
   "id": "93afdcb3",
   "metadata": {},
   "outputs": [
    {
     "data": {
      "image/png": "[encoded data removed]",
      "text/plain": [
       "<Figure size 432x288 with 1 Axes>"
      ]
     },
     "metadata": {
      "needs_background": "light"
     },
     "output_type": "display_data"
    }
   ],
   "source": [
    "# Blowing one of the implied timescale plot up by replotting it.\n",
    "index = -1 # Looking at the last one.\n",
    "plot = deeptime.plots.plot_implied_timescales(\n",
    "    deeptime.util.validation.implied_timescales(msms[index], n_its=9))\n",
    "plot.set_xlabel('lag time (ps)');\n",
    "plot.set_ylabel('timescale (ps)');\n",
    "plot.set_title(f'implied timescales for k={n_clusters[-1]} clusters');\n",
    "plot.set_ylim(0,10);\n",
    "plot.axvline(5, linestyle='--', color='grey');\n",
    "plot.legend(lagtimes,loc='upper right');\n",
    "\n",
    "## Choosing 10ps * 5ps = report every 50 ps\n",
    "plot.figure.savefig('final_its.pdf', dpi=300)"
   ]
  },
  {
   "cell_type": "code",
   "execution_count": 123,
   "id": "04344fc0",
   "metadata": {},
   "outputs": [],
   "source": [
    "final_lag = 5\n",
    "final_cluster= clusters[index]\n",
    "final_dtrajs = dtrajs[index][::5]\n",
    "estimator = deeptime.markov.TransitionCountEstimator(lag, 'sliding')\n",
    "final_count = estimator.fit(dtraj).fetch_model()\n",
    "estimator = deeptime.markov.msm.MaximumLikelihoodMSM(reversible=True, stationary_distribution_constraint=None)\n",
    "final_msm = estimator.fit(final_count, lagtime=None).fetch_model()"
   ]
  },
  {
   "cell_type": "code",
   "execution_count": 124,
   "id": "edcde2b0",
   "metadata": {},
   "outputs": [
    {
     "data": {
      "text/plain": [
       "array([[0.01034823, 0.00073576, 0.00031804, ..., 0.01844174, 0.00076898,\n",
       "        0.00087341],\n",
       "       [0.00031855, 0.01187036, 0.00507614, ..., 0.00048091, 0.01423786,\n",
       "        0.01278281],\n",
       "       [0.00032703, 0.01205584, 0.0052909 , ..., 0.00040024, 0.01384225,\n",
       "        0.01249021],\n",
       "       ...,\n",
       "       [0.01028488, 0.00061947, 0.00021708, ..., 0.01847312, 0.00067506,\n",
       "        0.00071477],\n",
       "       [0.00028591, 0.01222685, 0.0050051 , ..., 0.00045004, 0.01429524,\n",
       "        0.01237683],\n",
       "       [0.00036609, 0.01237533, 0.00509139, ..., 0.0005372 , 0.01395308,\n",
       "        0.01240714]])"
      ]
     },
     "execution_count": 124,
     "metadata": {},
     "output_type": "execute_result"
    }
   ],
   "source": [
    "final_msm.transition_matrix"
   ]
  },
  {
   "cell_type": "code",
   "execution_count": 14,
   "id": "07638306",
   "metadata": {},
   "outputs": [],
   "source": [
    "# Read previous data\n",
    "import pickle\n",
    "with open('final.pickle','rb') as file:\n",
    "    [final_cluster, final_dtrajs, final_count, final_msm] = pickle.load(file)"
   ]
  },
  {
   "cell_type": "code",
   "execution_count": 125,
   "id": "f115ddaf",
   "metadata": {},
   "outputs": [],
   "source": [
    "# Write previous data\n",
    "import pickle\n",
    "with open('final.pickle','wb') as file:\n",
    "    pickle.dump([final_cluster, final_dtrajs, final_count, final_msm], file)"
   ]
  },
  {
   "cell_type": "markdown",
   "id": "4e66f67c",
   "metadata": {},
   "source": [
    "## Checkpoint 4"
   ]
  },
  {
   "cell_type": "code",
   "execution_count": 122,
   "id": "44db57a5",
   "metadata": {},
   "outputs": [],
   "source": [
    "np.save('final_transition_matrix_200clusters.npy', final_msm.transition_matrix)"
   ]
  },
  {
   "cell_type": "code",
   "execution_count": 7,
   "id": "b2f80ed0",
   "metadata": {},
   "outputs": [],
   "source": [
    "# Finding the index of frames closest to center\n",
    "from scipy.cluster.vq import vq\n",
    "cl, _ = vq(final_cluster.cluster_centers, dihedral_concat[::50])\n",
    "\n",
    "np.save('closest_index.npy', cl)"
   ]
  },
  {
   "cell_type": "code",
   "execution_count": null,
   "id": "d66a354f",
   "metadata": {},
   "outputs": [],
   "source": [
    "# Loading in the coordinates\n",
    "folders = [f'{num+1:02d}' for num in range(10)]\n",
    "data = []\n",
    "for folder in tqdm(folders):\n",
    "    data.append(np.load(f'{folder}/coords.npy'))[::10]\n",
    "data_concat2 = np.concatenate(data)[::50]"
   ]
  },
  {
   "cell_type": "code",
   "execution_count": null,
   "id": "fc4e7856",
   "metadata": {},
   "outputs": [],
   "source": [
    "dihedral_concat2 = np.concatenate(dihedral)[::50]"
   ]
  },
  {
   "cell_type": "code",
   "execution_count": null,
   "id": "4d592be3",
   "metadata": {},
   "outputs": [],
   "source": [
    "coords = {}\n",
    "for idx, j in enumerate(tqdm(cl)):\n",
    "    coords[idx] = data_concat2[j]\n",
    "    \n",
    "import pickle\n",
    "with open('coord_backmap.pickle', 'wb') as f:\n",
    "    pickle.dump(coords, f)"
   ]
  },
  {
   "cell_type": "code",
   "execution_count": 8,
   "id": "d9be6926",
   "metadata": {},
   "outputs": [
    {
     "data": {
      "application/vnd.jupyter.widget-view+json": {
       "model_id": "79936bb0a5604ce4b4e31c54e6d7fa8c",
       "version_major": 2,
       "version_minor": 0
      },
      "text/plain": [
       "  0%|          | 0/200 [00:00<?, ?it/s]"
      ]
     },
     "metadata": {},
     "output_type": "display_data"
    }
   ],
   "source": [
    "pcoords = {}\n",
    "for idx, j in enumerate(tqdm(cl)):\n",
    "    pcoords[idx] = dihedral_concat2[j]\n",
    "    \n",
    "import pickle\n",
    "with open('pcoord_backmap.pickle', 'wb') as f:\n",
    "    pickle.dump(pcoords, f)"
   ]
  },
  {
   "cell_type": "code",
   "execution_count": null,
   "id": "9622f577",
   "metadata": {},
   "outputs": [],
   "source": []
  },
  {
   "cell_type": "markdown",
   "id": "168023bb",
   "metadata": {},
   "source": [
    "# Figuring out the start/end states."
   ]
  },
  {
   "cell_type": "code",
   "execution_count": 8,
   "id": "bf6e1dd9",
   "metadata": {},
   "outputs": [
    {
     "data": {
      "text/plain": [
       "array([108], dtype=int32)"
      ]
     },
     "execution_count": 8,
     "metadata": {},
     "output_type": "execute_result"
    }
   ],
   "source": [
    "from scipy.cluster.vq import vq\n",
    "cl, _ = vq( [[-82.9094, 46.4386]], final_cluster.cluster_centers,)\n",
    "cl"
   ]
  },
  {
   "cell_type": "code",
   "execution_count": 9,
   "id": "36633b46",
   "metadata": {},
   "outputs": [
    {
     "data": {
      "text/plain": [
       "array([-86.38787085,  43.94791794])"
      ]
     },
     "execution_count": 9,
     "metadata": {},
     "output_type": "execute_result"
    }
   ],
   "source": [
    "final_cluster.cluster_centers[108]"
   ]
  },
  {
   "cell_type": "code",
   "execution_count": 11,
   "id": "e8bef293",
   "metadata": {},
   "outputs": [
    {
     "name": "stdout",
     "output_type": "stream",
     "text": [
      "[  56.9945094  -164.70361737]\n",
      "119\n"
     ]
    }
   ],
   "source": [
    "for idx, cluster in enumerate(final_cluster.cluster_centers):\n",
    "    if -180 < cluster[1] <-125 and 25<cluster[0] <90:\n",
    "        print(cluster)\n",
    "        print(idx)"
   ]
  },
  {
   "cell_type": "code",
   "execution_count": 17,
   "id": "cf26ac84",
   "metadata": {},
   "outputs": [
    {
     "data": {
      "text/plain": [
       "5.397887155924061e-06"
      ]
     },
     "execution_count": 17,
     "metadata": {},
     "output_type": "execute_result"
    }
   ],
   "source": [
    "final_msm.transition_matrix[108,119]"
   ]
  },
  {
   "cell_type": "code",
   "execution_count": null,
   "id": "4327fe9b",
   "metadata": {},
   "outputs": [],
   "source": []
  },
  {
   "cell_type": "markdown",
   "id": "5f64bbab",
   "metadata": {},
   "source": [
    "# Test Cells"
   ]
  },
  {
   "cell_type": "code",
   "execution_count": 53,
   "id": "5ed02f31",
   "metadata": {},
   "outputs": [
    {
     "data": {
      "image/png": "[encoded data removed]",
      "text/plain": [
       "<Figure size 432x288 with 1 Axes>"
      ]
     },
     "metadata": {
      "needs_background": "light"
     },
     "output_type": "display_data"
    }
   ],
   "source": [
    "its_models = []\n",
    "for j in msms:\n",
    "    its_models.append(deeptime.util.validation.implied_timescales(j))\n",
    "    deeptime.plots.plot_implied_timescales(its_models[-1])\n"
   ]
  },
  {
   "cell_type": "code",
   "execution_count": null,
   "id": "8fe93ad0",
   "metadata": {},
   "outputs": [],
   "source": []
  },
  {
   "cell_type": "code",
   "execution_count": null,
   "id": "abe2f7c3",
   "metadata": {},
   "outputs": [],
   "source": [
    "dtrajs = clusters.transform(dihedral_concat)"
   ]
  },
  {
   "cell_type": "code",
   "execution_count": null,
   "id": "bea7a2f3",
   "metadata": {},
   "outputs": [],
   "source": [
    "lagtimes = [1,2,5,10,20,25]\n",
    "countm = []\n",
    "for j in lagtimes:\n",
    "    estimator = deeptime.markov.TransitionCountEstimator(j, 'sliding')\n",
    "    countm.append(estimator.fit(dtrajs).fetch_model())\n",
    "countm"
   ]
  },
  {
   "cell_type": "code",
   "execution_count": null,
   "id": "656f160f",
   "metadata": {},
   "outputs": [],
   "source": [
    "estimator = deeptime.markov.msm.MaximumLikelihoodMSM(reversible=True, stationary_distribution_constraint=None)\n",
    "msms = []\n",
    "for matrix in countm:\n",
    "    msms.append(estimator.fit(matrix).fetch_model())\n",
    "#for j in msms:\n",
    "#    print(j.transition_matrix)"
   ]
  },
  {
   "cell_type": "code",
   "execution_count": null,
   "id": "c31b51e2",
   "metadata": {},
   "outputs": [],
   "source": [
    "b = deeptime.util.validation.implied_timescales(msms)\n",
    "c = deeptime.plots.plot_implied_timescales(b)\n",
    "c.set_ylim((0,20))"
   ]
  },
  {
   "cell_type": "code",
   "execution_count": null,
   "id": "49612ad6",
   "metadata": {},
   "outputs": [],
   "source": [
    "#its = pyemma.msm.its(clusters.dtrajs, lags=[1, 2, 5, 10, 20, 50], nits=4, errors='bayes')\n",
    "#its = deeptime.util.validation.implied_timescales(clusters, n_its=4)"
   ]
  },
  {
   "cell_type": "code",
   "execution_count": null,
   "id": "6284aaa0",
   "metadata": {},
   "outputs": [],
   "source": [
    "fig, axes = plt.subplots(2, 3, figsize=(12, 6))\n",
    "for i, k in enumerate([20, 50, 100]):\n",
    "    cluster = pyemma.coordinates.cluster_kmeans(data, k=k, max_iter=50, stride=10)\n",
    "    pyemma.plots.plot_density(*data_concatenated.T, ax=axes[0, i], cbar=False, alpha=0.1)\n",
    "    axes[0, i].scatter(*cluster.clustercenters.T, s=15, c='C1')\n",
    "    axes[0, i].set_xlabel('$\\Phi$')\n",
    "    axes[0, i].set_ylabel('$\\Psi$')\n",
    "    axes[0, i].set_title('k = {} centers'.format(k))\n",
    "    pyemma.plots.plot_implied_timescales(\n",
    "        pyemma.msm.its(cluster.dtrajs, lags=[1, 2, 5, 10, 20, 50], nits=4, errors='bayes'),\n",
    "        ax=axes[1, i], units='ps')\n",
    "    axes[1, i].set_ylim(1, 2000)\n",
    "fig.tight_layout()"
   ]
  },
  {
   "cell_type": "code",
   "execution_count": null,
   "id": "43ac53a3",
   "metadata": {},
   "outputs": [],
   "source": []
  }
 ],
 "metadata": {
  "kernelspec": {
   "display_name": "Python 3 (ipykernel)",
   "language": "python",
   "name": "python3"
  },
  "language_info": {
   "codemirror_mode": {
    "name": "ipython",
    "version": 3
   },
   "file_extension": ".py",
   "mimetype": "text/x-python",
   "name": "python",
   "nbconvert_exporter": "python",
   "pygments_lexer": "ipython3",
   "version": "3.11.0"
  }
 },
 "nbformat": 4,
 "nbformat_minor": 5
}
